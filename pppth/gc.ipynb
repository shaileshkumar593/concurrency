{
 "cells": [
  {
   "cell_type": "code",
   "execution_count": 1,
   "id": "d0accfcd",
   "metadata": {},
   "outputs": [
    {
     "name": "stdout",
     "output_type": "stream",
     "text": [
      "2\n",
      "3\n",
      "2\n"
     ]
    }
   ],
   "source": [
    "import sys\n",
    "\n",
    "x = [1, 2, 3]\n",
    "print(sys.getrefcount(x)) \n",
    "\n",
    "y = x\n",
    "print(sys.getrefcount(x)) \n",
    "\n",
    "y = None\n",
    "print(sys.getrefcount(x))"
   ]
  },
  {
   "cell_type": "code",
   "execution_count": 2,
   "id": "c11b3a5c",
   "metadata": {},
   "outputs": [
    {
     "name": "stdout",
     "output_type": "stream",
     "text": [
      "3\n",
      "3\n"
     ]
    }
   ],
   "source": [
    "import sys\n",
    "x = [1, 2, 3]\n",
    "y = [4, 5, 6]\n",
    "\n",
    "x.append(y)\n",
    "y.append(x)\n",
    "print(sys.getrefcount(x))\n",
    "print(sys.getrefcount(y))"
   ]
  },
  {
   "cell_type": "markdown",
   "id": "cea006b5",
   "metadata": {
    "vscode": {
     "languageId": "latex"
    }
   },
   "source": [
    "for first :"
   ]
  },
  {
   "cell_type": "markdown",
   "id": "d336bd2b",
   "metadata": {},
   "source": [
    "x is referenced twice initially (once by x, once by getrefcount()).\n",
    "Assigning y = x increases the count."
   ]
  },
  {
   "cell_type": "markdown",
   "id": "d9cc89a5",
   "metadata": {},
   "source": [
    "Second :"
   ]
  },
  {
   "cell_type": "markdown",
   "id": "8e84dc77",
   "metadata": {},
   "source": [
    "x contains y and y contains x.\n",
    "Even after deleting x and y, Python won’t be able to free the memory just using reference counting, because each still references the other."
   ]
  },
  {
   "cell_type": "code",
   "execution_count": 7,
   "id": "7c1ed929",
   "metadata": {},
   "outputs": [
    {
     "name": "stdout",
     "output_type": "stream",
     "text": [
      "0\n",
      "10\n"
     ]
    }
   ],
   "source": [
    "import gc\n",
    "\n",
    "# Create a cycle\n",
    "def fun(i):\n",
    "    x = {}\n",
    "    #print(type(x))\n",
    "    x[i + 1] = x\n",
    "    return x\n",
    "\n",
    "# Trigger garbage collection\n",
    "c = gc.collect()\n",
    "print(c)\n",
    "\n",
    "for i in range(10):\n",
    "    fun(i)\n",
    "\n",
    "c = gc.collect()\n",
    "print(c)"
   ]
  },
  {
   "cell_type": "code",
   "execution_count": 8,
   "id": "11c0895c",
   "metadata": {},
   "outputs": [
    {
     "data": {
      "text/plain": [
       "0"
      ]
     },
     "execution_count": 8,
     "metadata": {},
     "output_type": "execute_result"
    }
   ],
   "source": [
    "#Forced garbage collections\n",
    "import gc\n",
    "\n",
    "a = [1, 2, 3]\n",
    "b = {\"a\": 1, \"b\": 2}\n",
    "c = \"Hello, world!\"\n",
    "\n",
    "del a,b,c\n",
    "gc.collect()"
   ]
  }
 ],
 "metadata": {
  "kernelspec": {
   "display_name": "Python 3",
   "language": "python",
   "name": "python3"
  },
  "language_info": {
   "codemirror_mode": {
    "name": "ipython",
    "version": 3
   },
   "file_extension": ".py",
   "mimetype": "text/x-python",
   "name": "python",
   "nbconvert_exporter": "python",
   "pygments_lexer": "ipython3",
   "version": "3.12.7"
  }
 },
 "nbformat": 4,
 "nbformat_minor": 5
}
