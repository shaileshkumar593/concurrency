{
 "cells": [
  {
   "cell_type": "code",
   "execution_count": null,
   "id": "f12ad9b1",
   "metadata": {},
   "outputs": [],
   "source": [
    "def sum_all(*numbers):\n",
    "    total = 0\n",
    "    for num in numbers:\n",
    "        total += num\n",
    "    return total\n",
    "\n",
    "print(sum_all(1, 2, 3))\n",
    "print(sum_all(10, 20, 30, 40, 50))"
   ]
  },
  {
   "cell_type": "code",
   "execution_count": null,
   "id": "a24ac5d7",
   "metadata": {},
   "outputs": [],
   "source": [
    "def display_info(**details):\n",
    "    for key, value in details.items():\n",
    "        print(f\"{key}: {value}\")\n",
    "\n",
    "display_info(name=\"Alice\", age=30, city=\"New York\")\n",
    "display_info(product=\"Laptop\", price=1200, brand=\"Dell\", warranty_years=2)"
   ]
  },
  {
   "cell_type": "code",
   "execution_count": null,
   "id": "66f5cc55",
   "metadata": {},
   "outputs": [],
   "source": [
    "def process_order(order_id, *items, **customer_info):\n",
    "    print(f\"Processing order ID: {order_id}\")\n",
    "    print(\"Items ordered:\")\n",
    "    for item in items:\n",
    "        print(f\"- {item}\")\n",
    "    print(\"Customer Information:\")\n",
    "    for key, value in customer_info.items():\n",
    "        print(f\"  {key}: {value}\")\n",
    "\n",
    "process_order(123, \"Apple\", \"Banana\", \"Orange\", name=\"John Doe\", address=\"123 Main St\")"
   ]
  }
 ],
 "metadata": {
  "language_info": {
   "name": "python"
  }
 },
 "nbformat": 4,
 "nbformat_minor": 5
}
