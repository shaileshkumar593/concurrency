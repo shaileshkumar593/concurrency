{
 "cells": [
  {
   "cell_type": "code",
   "execution_count": 8,
   "id": "cf34d442",
   "metadata": {},
   "outputs": [
    {
     "name": "stdout",
     "output_type": "stream",
     "text": [
      "[0, 1, 4, 9, 16]\n",
      "<generator object <genexpr> at 0x0000028F9D4F18A0>\n",
      "0\n",
      "1\n",
      "4\n",
      "9\n",
      "16\n"
     ]
    }
   ],
   "source": [
    "# List comprehension - stores all results in memory\n",
    "nums = [x * x for x in range(5)]\n",
    "print(nums)   # Output: [0, 1, 4, 9, 16]\n",
    "\n",
    "# Generator comprehension - lazy evaluation\n",
    "gen = (x * x for x in range(5))\n",
    "print(gen)    # Output: <generator object <genexpr> at 0x...>\n",
    "\n",
    "# Access elements one-by-one\n",
    "for value in gen:\n",
    "    print(value)\n"
   ]
  },
  {
   "cell_type": "markdown",
   "id": "ddb09086",
   "metadata": {},
   "source": [
    "# memory comparision "
   ]
  },
  {
   "cell_type": "code",
   "execution_count": 9,
   "id": "3c85e4db",
   "metadata": {},
   "outputs": [
    {
     "name": "stdout",
     "output_type": "stream",
     "text": [
      "8448728\n",
      "200\n"
     ]
    }
   ],
   "source": [
    "import sys\n",
    "\n",
    "nums_list = [x * x for x in range(1_000_000)]\n",
    "nums_gen = (x * x for x in range(1_000_000))\n",
    "\n",
    "print(sys.getsizeof(nums_list))  # ~8 MB or more\n",
    "print(sys.getsizeof(nums_gen))   # ~104 bytes\n"
   ]
  },
  {
   "cell_type": "markdown",
   "id": "0c2676c6",
   "metadata": {},
   "source": [
    "# How Generator Comprehensions Work Internally"
   ]
  },
  {
   "cell_type": "code",
   "execution_count": 10,
   "id": "c0cbea82",
   "metadata": {},
   "outputs": [
    {
     "name": "stdout",
     "output_type": "stream",
     "text": [
      "0\n",
      "1\n",
      "4\n"
     ]
    }
   ],
   "source": [
    "def square_gen():\n",
    "    for x in range(3):\n",
    "        yield x * x  # 'yield' turns this into a generator\n",
    "\n",
    "# Create generator object\n",
    "gen = square_gen()\n",
    "\n",
    "# Option 1: Iterate using a loop\n",
    "for value in gen:\n",
    "    print(value)\n"
   ]
  },
  {
   "cell_type": "code",
   "execution_count": 11,
   "id": "17dace38",
   "metadata": {},
   "outputs": [
    {
     "name": "stdout",
     "output_type": "stream",
     "text": [
      "[0, 8, 32, 72, 128]\n"
     ]
    }
   ],
   "source": [
    " #Chaining Generators (Functional Style)\n",
    "\n",
    "# Square even numbers lazily\n",
    "even_squares = (x * x for x in range(10) if x % 2 == 0)\n",
    "\n",
    "# Double them again\n",
    "double_even_squares = (y * 2 for y in even_squares)\n",
    "\n",
    "print(list(double_even_squares))\n",
    "# Output: [0, 8, 32, 72, 128]"
   ]
  },
  {
   "cell_type": "code",
   "execution_count": 12,
   "id": "d0ab7009",
   "metadata": {},
   "outputs": [
    {
     "name": "stdout",
     "output_type": "stream",
     "text": [
      "0\n",
      "1\n",
      "4\n"
     ]
    }
   ],
   "source": [
    "def square_gen():\n",
    "    for x in range(3):\n",
    "        yield x * x  # 'yield' turns this into a generator\n",
    "\n",
    "# Create generator object\n",
    "gen = square_gen()\n",
    "\n",
    "print(next(gen))  # 0\n",
    "print(next(gen))  # 1\n",
    "print(next(gen))  # 4"
   ]
  },
  {
   "cell_type": "code",
   "execution_count": 13,
   "id": "65c7f7fe",
   "metadata": {},
   "outputs": [
    {
     "ename": "FileNotFoundError",
     "evalue": "[Errno 2] No such file or directory: 'large_data.txt'",
     "output_type": "error",
     "traceback": [
      "\u001b[31m---------------------------------------------------------------------------\u001b[39m",
      "\u001b[31mFileNotFoundError\u001b[39m                         Traceback (most recent call last)",
      "\u001b[36mCell\u001b[39m\u001b[36m \u001b[39m\u001b[32mIn[13]\u001b[39m\u001b[32m, line 9\u001b[39m\n\u001b[32m      6\u001b[39m         total = \u001b[38;5;28msum\u001b[39m(numbers)\n\u001b[32m      7\u001b[39m     \u001b[38;5;28;01mreturn\u001b[39;00m total\n\u001b[32m----> \u001b[39m\u001b[32m9\u001b[39m \u001b[38;5;28mprint\u001b[39m(\u001b[43mread_large_file\u001b[49m\u001b[43m(\u001b[49m\u001b[33;43m\"\u001b[39;49m\u001b[33;43mlarge_data.txt\u001b[39;49m\u001b[33;43m\"\u001b[39;49m\u001b[43m)\u001b[49m)\n",
      "\u001b[36mCell\u001b[39m\u001b[36m \u001b[39m\u001b[32mIn[13]\u001b[39m\u001b[32m, line 2\u001b[39m, in \u001b[36mread_large_file\u001b[39m\u001b[34m(filename)\u001b[39m\n\u001b[32m      1\u001b[39m \u001b[38;5;28;01mdef\u001b[39;00m\u001b[38;5;250m \u001b[39m\u001b[34mread_large_file\u001b[39m(filename):\n\u001b[32m----> \u001b[39m\u001b[32m2\u001b[39m     \u001b[38;5;28;01mwith\u001b[39;00m \u001b[38;5;28;43mopen\u001b[39;49m\u001b[43m(\u001b[49m\u001b[43mfilename\u001b[49m\u001b[43m)\u001b[49m \u001b[38;5;28;01mas\u001b[39;00m f:\n\u001b[32m      3\u001b[39m         \u001b[38;5;66;03m# Lazy line processing\u001b[39;00m\n\u001b[32m      4\u001b[39m         lines = (line.strip() \u001b[38;5;28;01mfor\u001b[39;00m line \u001b[38;5;129;01min\u001b[39;00m f)\n\u001b[32m      5\u001b[39m         numbers = (\u001b[38;5;28mint\u001b[39m(line) \u001b[38;5;28;01mfor\u001b[39;00m line \u001b[38;5;129;01min\u001b[39;00m lines \u001b[38;5;28;01mif\u001b[39;00m line.isdigit())\n",
      "\u001b[36mFile \u001b[39m\u001b[32mc:\\Users\\shailesh.kumar\\AppData\\Local\\Programs\\Python\\Python312\\Lib\\site-packages\\IPython\\core\\interactiveshell.py:343\u001b[39m, in \u001b[36m_modified_open\u001b[39m\u001b[34m(file, *args, **kwargs)\u001b[39m\n\u001b[32m    336\u001b[39m \u001b[38;5;28;01mif\u001b[39;00m file \u001b[38;5;129;01min\u001b[39;00m {\u001b[32m0\u001b[39m, \u001b[32m1\u001b[39m, \u001b[32m2\u001b[39m}:\n\u001b[32m    337\u001b[39m     \u001b[38;5;28;01mraise\u001b[39;00m \u001b[38;5;167;01mValueError\u001b[39;00m(\n\u001b[32m    338\u001b[39m         \u001b[33mf\u001b[39m\u001b[33m\"\u001b[39m\u001b[33mIPython won\u001b[39m\u001b[33m'\u001b[39m\u001b[33mt let you open fd=\u001b[39m\u001b[38;5;132;01m{\u001b[39;00mfile\u001b[38;5;132;01m}\u001b[39;00m\u001b[33m by default \u001b[39m\u001b[33m\"\u001b[39m\n\u001b[32m    339\u001b[39m         \u001b[33m\"\u001b[39m\u001b[33mas it is likely to crash IPython. If you know what you are doing, \u001b[39m\u001b[33m\"\u001b[39m\n\u001b[32m    340\u001b[39m         \u001b[33m\"\u001b[39m\u001b[33myou can use builtins\u001b[39m\u001b[33m'\u001b[39m\u001b[33m open.\u001b[39m\u001b[33m\"\u001b[39m\n\u001b[32m    341\u001b[39m     )\n\u001b[32m--> \u001b[39m\u001b[32m343\u001b[39m \u001b[38;5;28;01mreturn\u001b[39;00m \u001b[43mio_open\u001b[49m\u001b[43m(\u001b[49m\u001b[43mfile\u001b[49m\u001b[43m,\u001b[49m\u001b[43m \u001b[49m\u001b[43m*\u001b[49m\u001b[43margs\u001b[49m\u001b[43m,\u001b[49m\u001b[43m \u001b[49m\u001b[43m*\u001b[49m\u001b[43m*\u001b[49m\u001b[43mkwargs\u001b[49m\u001b[43m)\u001b[49m\n",
      "\u001b[31mFileNotFoundError\u001b[39m: [Errno 2] No such file or directory: 'large_data.txt'"
     ]
    }
   ],
   "source": [
    "def read_large_file(filename):\n",
    "    with open(filename) as f:\n",
    "        # Lazy line processing\n",
    "        lines = (line.strip() for line in f)\n",
    "        numbers = (int(line) for line in lines if line.isdigit())\n",
    "        total = sum(numbers)\n",
    "    return total\n",
    "\n",
    "print(read_large_file(\"large_data.txt\"))"
   ]
  },
  {
   "cell_type": "code",
   "execution_count": 14,
   "id": "79d95077",
   "metadata": {},
   "outputs": [
    {
     "name": "stdout",
     "output_type": "stream",
     "text": [
      "Sum of even squares: 120\n"
     ]
    }
   ],
   "source": [
    "def even_squares(limit):\n",
    "    for x in range(limit):\n",
    "        if x % 2 == 0:\n",
    "            yield x * x\n",
    "\n",
    "total = sum(even_squares(10))\n",
    "print(\"Sum of even squares:\", total)\n"
   ]
  },
  {
   "cell_type": "code",
   "execution_count": 15,
   "id": "2cc791a7",
   "metadata": {},
   "outputs": [
    {
     "name": "stdout",
     "output_type": "stream",
     "text": [
      "Sum of square roots: 28.0\n"
     ]
    }
   ],
   "source": [
    "import math\n",
    "\n",
    "# Step 1: Generate numbers\n",
    "nums = (x for x in range(1, 11))\n",
    "\n",
    "# Step 2: Square each number\n",
    "squares = (x * x for x in nums)\n",
    "\n",
    "# Step 3: Take only those less than 50\n",
    "filtered = (x for x in squares if x < 50)\n",
    "\n",
    "# Step 4: Compute sum of square roots\n",
    "result = sum(math.sqrt(x) for x in filtered)\n",
    "\n",
    "print(\"Sum of square roots:\", result)\n"
   ]
  },
  {
   "cell_type": "code",
   "execution_count": 16,
   "id": "267a9126",
   "metadata": {},
   "outputs": [
    {
     "name": "stdout",
     "output_type": "stream",
     "text": [
      "Sum of AP: 40\n"
     ]
    }
   ],
   "source": [
    "def arithmetic_progression(start, diff, count):\n",
    "    value = start\n",
    "    for _ in range(count):\n",
    "        yield value\n",
    "        value += diff\n",
    "\n",
    "# Example: 5 terms, starting at 2, difference 3\n",
    "series = arithmetic_progression(2, 3, 5)\n",
    "\n",
    "# Perform mathematical operations\n",
    "total = sum(series)\n",
    "print(\"Sum of AP:\", total)\n"
   ]
  },
  {
   "cell_type": "code",
   "execution_count": 17,
   "id": "322f5ae0",
   "metadata": {},
   "outputs": [
    {
     "name": "stdout",
     "output_type": "stream",
     "text": [
      "Sum of Fibonacci numbers: 88\n"
     ]
    }
   ],
   "source": [
    "def fibonacci(n):\n",
    "    a, b = 0, 1\n",
    "    for _ in range(n):\n",
    "        yield a\n",
    "        a, b = b, a + b\n",
    "\n",
    "# Compute sum of first 10 Fibonacci numbers\n",
    "total = sum(fibonacci(10))\n",
    "print(\"Sum of Fibonacci numbers:\", total)\n"
   ]
  },
  {
   "cell_type": "code",
   "execution_count": 18,
   "id": "7a10b127",
   "metadata": {},
   "outputs": [
    {
     "name": "stdout",
     "output_type": "stream",
     "text": [
      "List pipeline: [0, 4, 8, 12, 16]\n",
      "Generator pipeline: [0, 4, 8, 12, 16]\n"
     ]
    }
   ],
   "source": [
    "# Step 1: List comprehension (eager)\n",
    "doubled_list = [x * 2 for x in range(10) if x % 2 == 0]\n",
    "print(\"List pipeline:\", doubled_list)\n",
    "\n",
    "# Step 2: Generator pipeline (lazy)\n",
    "doubled_gen = (x * 2 for x in (y for y in range(10) if y % 2 == 0))\n",
    "print(\"Generator pipeline:\", list(doubled_gen))\n"
   ]
  },
  {
   "cell_type": "code",
   "execution_count": 19,
   "id": "17ffdc9e",
   "metadata": {},
   "outputs": [
    {
     "name": "stdout",
     "output_type": "stream",
     "text": [
      "Sum using list comprehension: 20\n",
      "Sum using generator comprehension: 20\n"
     ]
    }
   ],
   "source": [
    "# Using list comprehension\n",
    "with open(\"numbers.txt\", \"w\") as f:\n",
    "    f.write(\"\\n\".join(str(i) for i in range(10)))\n",
    "\n",
    "with open(\"numbers.txt\") as f:\n",
    "    total_list = sum([int(line) for line in f if int(line) % 2 == 0])\n",
    "\n",
    "with open(\"numbers.txt\") as f:\n",
    "    total_gen = sum(int(line) for line in f if int(line) % 2 == 0)\n",
    "\n",
    "print(\"Sum using list comprehension:\", total_list)\n",
    "print(\"Sum using generator comprehension:\", total_gen)\n"
   ]
  },
  {
   "cell_type": "code",
   "execution_count": 20,
   "id": "b6ee0f25",
   "metadata": {},
   "outputs": [
    {
     "name": "stdout",
     "output_type": "stream",
     "text": [
      "Prime numbers (List Comprehension): [2, 3, 5, 7, 11, 13, 17, 19, 23, 29] ...\n",
      "Total primes: 168\n",
      "List comprehension time: 0.001657 sec\n",
      "\n",
      "Prime numbers (Generator Comprehension): [2, 3, 5, 7, 11, 13, 17, 19, 23, 29] ...\n",
      "Total primes: 168\n",
      "Generator comprehension time: 0.003023 sec\n",
      "\n"
     ]
    }
   ],
   "source": [
    "import math\n",
    "import time\n",
    "\n",
    "# Function to check if a number is prime\n",
    "def is_prime(n):\n",
    "    if n < 2:\n",
    "        return False\n",
    "    for i in range(2, int(math.sqrt(n)) + 1):\n",
    "        if n % i == 0:\n",
    "            return False\n",
    "    return True\n",
    "\n",
    "\n",
    "# ----------- LIST COMPREHENSION -----------\n",
    "start_list = time.time()\n",
    "prime_list = [x for x in range(2, 1000) if is_prime(x)]\n",
    "end_list = time.time()\n",
    "\n",
    "print(\"Prime numbers (List Comprehension):\", prime_list[:10], \"...\")  # print first 10\n",
    "print(\"Total primes:\", len(prime_list))\n",
    "print(\"List comprehension time:\", round(end_list - start_list, 6), \"sec\\n\")\n",
    "\n",
    "\n",
    "# ----------- GENERATOR COMPREHENSION -----------\n",
    "start_gen = time.time()\n",
    "prime_gen = (x for x in range(2, 1000) if is_prime(x))\n",
    "# Consume generator\n",
    "prime_gen_list = list(prime_gen)\n",
    "end_gen = time.time()\n",
    "\n",
    "print(\"Prime numbers (Generator Comprehension):\", prime_gen_list[:10], \"...\")\n",
    "print(\"Total primes:\", len(prime_gen_list))\n",
    "print(\"Generator comprehension time:\", round(end_gen - start_gen, 6), \"sec\\n\")\n"
   ]
  }
 ],
 "metadata": {
  "kernelspec": {
   "display_name": "Python 3",
   "language": "python",
   "name": "python3"
  },
  "language_info": {
   "codemirror_mode": {
    "name": "ipython",
    "version": 3
   },
   "file_extension": ".py",
   "mimetype": "text/x-python",
   "name": "python",
   "nbconvert_exporter": "python",
   "pygments_lexer": "ipython3",
   "version": "3.12.7"
  }
 },
 "nbformat": 4,
 "nbformat_minor": 5
}
