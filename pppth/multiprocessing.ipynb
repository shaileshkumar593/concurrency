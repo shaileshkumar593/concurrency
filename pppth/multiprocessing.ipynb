{
 "cells": [
  {
   "cell_type": "markdown",
   "id": "4af69f28",
   "metadata": {},
   "source": [
    "# Basic Multiprocessing with Process\n",
    "# Use case: Manual process management (custom process orchestration, low-level control)"
   ]
  },
  {
   "cell_type": "code",
   "execution_count": null,
   "id": "ff65aa5e",
   "metadata": {},
   "outputs": [],
   "source": [
    "from multiprocessing import Process\n",
    "import time\n",
    "import os\n",
    "\n",
    "def worker(task_id):\n",
    "    print(f\"[Process {task_id}] PID={os.getpid()} starting...\")\n",
    "    time.sleep(2)\n",
    "    print(f\"[Process {task_id}] finished.\")\n",
    "\n",
    "if __name__ == \"__main__\":\n",
    "    processes = []\n",
    "\n",
    "    for i in range(3):\n",
    "        p = Process(target=worker, args=(i,))\n",
    "        processes.append(p)\n",
    "        p.start()\n",
    "\n",
    "    for p in processes:\n",
    "        p.join()\n",
    "\n",
    "    print(\"✅ All processes complete.\")\n"
   ]
  },
  {
   "cell_type": "markdown",
   "id": "a1c2379e",
   "metadata": {},
   "source": [
    "# Subclassing Process (OOP-style)\n",
    "# Use case: Encapsulated logic per process (e.g. ML model per process)"
   ]
  },
  {
   "cell_type": "code",
   "execution_count": null,
   "id": "045d7250",
   "metadata": {},
   "outputs": [],
   "source": [
    "from multiprocessing import Process\n",
    "import time\n",
    "\n",
    "class MyProcess(Process):\n",
    "    def __init__(self, name):\n",
    "        super().__init__()\n",
    "        self.name = name\n",
    "\n",
    "    def run(self):\n",
    "        print(f\"Process {self.name} started.\")\n",
    "        time.sleep(1)\n",
    "        print(f\"Process {self.name} done.\")\n",
    "\n",
    "if __name__ == \"__main__\":\n",
    "    processes = [MyProcess(i) for i in range(3)]\n",
    "    for p in processes: p.start()\n",
    "    for p in processes: p.join()\n"
   ]
  },
  {
   "cell_type": "markdown",
   "id": "7b6dbc57",
   "metadata": {},
   "source": [
    "# Subclassing Process (OOP-style)\n",
    "# Use case: Encapsulated logic per process (e.g. ML model per process)"
   ]
  },
  {
   "cell_type": "code",
   "execution_count": null,
   "id": "bba407f9",
   "metadata": {},
   "outputs": [],
   "source": [
    "from multiprocessing import Process\n",
    "import time\n",
    "\n",
    "class MyProcess(Process):\n",
    "    def __init__(self, name):\n",
    "        super().__init__()\n",
    "        self.name = name\n",
    "\n",
    "    def run(self):\n",
    "        print(f\"Process {self.name} started.\")\n",
    "        time.sleep(1)\n",
    "        print(f\"Process {self.name} done.\")\n",
    "\n",
    "if __name__ == \"__main__\":\n",
    "    processes = [MyProcess(i) for i in range(3)]\n",
    "    for p in processes: p.start()\n",
    "    for p in processes: p.join()\n"
   ]
  },
  {
   "cell_type": "markdown",
   "id": "9e6e0942",
   "metadata": {},
   "source": [
    "# Using multiprocessing.Pool (Parallel Map)\n",
    "# Use case: Parallelizing CPU-heavy data computations\n",
    "# Advantage: Automatic process pool management, simple API\n",
    "\n"
   ]
  },
  {
   "cell_type": "code",
   "execution_count": null,
   "id": "78390ab6",
   "metadata": {},
   "outputs": [],
   "source": [
    "from multiprocessing import Pool\n",
    "import time, os\n",
    "\n",
    "def square(n):\n",
    "    print(f\"Process {os.getpid()} → computing {n}²\")\n",
    "    time.sleep(1)\n",
    "    return n * n\n",
    "\n",
    "if __name__ == \"__main__\":\n",
    "    with Pool(processes=4) as pool:\n",
    "        results = pool.map(square, [1, 2, 3, 4, 5])\n",
    "    print(\"Results:\", results)\n"
   ]
  },
  {
   "cell_type": "markdown",
   "id": "d87f1476",
   "metadata": {},
   "source": [
    "# Using Pool.apply() and Pool.apply_async()\n",
    "# Use case: Async tasks, parallel computations with other ongoing operations"
   ]
  },
  {
   "cell_type": "code",
   "execution_count": null,
   "id": "a918ec70",
   "metadata": {},
   "outputs": [],
   "source": [
    "from multiprocessing import Pool\n",
    "\n",
    "# Synchronous (blocking)\n",
    "def cube(n):\n",
    "    return n ** 3\n",
    "\n",
    "if __name__ == \"__main__\":\n",
    "    with Pool(3) as pool:\n",
    "        print(\"Result:\", pool.apply(cube, (5,)))  # Waits for completion\n",
    "\n",
    "\n",
    "# Asynchronous (non-blocking)\n",
    "from multiprocessing import Pool\n",
    "\n",
    "def cube(n):\n",
    "    return n ** 3\n",
    "\n",
    "if __name__ == \"__main__\":\n",
    "    with Pool(3) as pool:\n",
    "        result = pool.apply_async(cube, (5,))\n",
    "        print(\"Doing other work...\")\n",
    "        print(\"Result:\", result.get())  # Fetch result later\n"
   ]
  },
  {
   "cell_type": "markdown",
   "id": "8f265500",
   "metadata": {},
   "source": [
    "# Using concurrent.futures.ProcessPoolExecutor (Recommended Modern API)\n",
    "# ✅ Thread-safe, Pythonic, production-friendly\n"
   ]
  },
  {
   "cell_type": "code",
   "execution_count": null,
   "id": "0e770835",
   "metadata": {},
   "outputs": [],
   "source": [
    "from concurrent.futures import ProcessPoolExecutor, as_completed\n",
    "import time, math\n",
    "\n",
    "def heavy_computation(x):\n",
    "    time.sleep(1)\n",
    "    return math.factorial(x)\n",
    "\n",
    "if __name__ == \"__main__\":\n",
    "    with ProcessPoolExecutor(max_workers=4) as executor:\n",
    "        futures = [executor.submit(heavy_computation, n) for n in [5, 6, 7, 8]]\n",
    "        for future in as_completed(futures):\n",
    "            print(\"Result:\", future.result())\n"
   ]
  },
  {
   "cell_type": "markdown",
   "id": "66fcd53f",
   "metadata": {},
   "source": [
    "# Using multiprocessing.Queue (Inter-Process Communication)\n",
    "#  ✅ Safely exchange data between processes\n",
    "# Use case: Data pipelines, message passing, task queues"
   ]
  },
  {
   "cell_type": "code",
   "execution_count": null,
   "id": "221770c0",
   "metadata": {},
   "outputs": [],
   "source": [
    "from multiprocessing import Process, Queue\n",
    "import time\n",
    "\n",
    "def producer(q):\n",
    "    for i in range(5):\n",
    "        print(\"Producing:\", i)\n",
    "        q.put(i)\n",
    "        time.sleep(1)\n",
    "    q.put(None)  # Signal end\n",
    "\n",
    "def consumer(q):\n",
    "    while True:\n",
    "        item = q.get()\n",
    "        if item is None:\n",
    "            break\n",
    "        print(\"Consumed:\", item)\n",
    "        time.sleep(2)\n",
    "\n",
    "if __name__ == \"__main__\":\n",
    "    q = Queue()\n",
    "    Process(target=producer, args=(q,)).start()\n",
    "    Process(target=consumer, args=(q,)).start()\n"
   ]
  },
  {
   "cell_type": "markdown",
   "id": "fe0377eb",
   "metadata": {},
   "source": [
    "# Using multiprocessing.Pipe (Two-way Communication)\n",
    "# from multiprocessing import Process, Pipe"
   ]
  },
  {
   "cell_type": "code",
   "execution_count": null,
   "id": "acc717a2",
   "metadata": {},
   "outputs": [],
   "source": [
    "from multiprocessing import Process, Pipe\n",
    "\n",
    "def sender(conn):\n",
    "    conn.send(\"Hello from child\")\n",
    "    conn.close()\n",
    "\n",
    "def receiver(conn):\n",
    "    msg = conn.recv()\n",
    "    print(\"Received:\", msg)\n",
    "\n",
    "if __name__ == \"__main__\":\n",
    "    parent_conn, child_conn = Pipe()\n",
    "    Process(target=sender, args=(child_conn,)).start()\n",
    "    Process(target=receiver, args=(parent_conn,)).start()\n"
   ]
  },
  {
   "cell_type": "markdown",
   "id": "5ccff00d",
   "metadata": {},
   "source": [
    "# Using Shared Memory (Value / Array)\n",
    "# ✅ Share small data between processes (without serialization)"
   ]
  },
  {
   "cell_type": "code",
   "execution_count": null,
   "id": "53f91414",
   "metadata": {},
   "outputs": [],
   "source": [
    "from multiprocessing import Process, Value, Array\n",
    "\n",
    "def update_data(num, arr):\n",
    "    num.value += 1\n",
    "    for i in range(len(arr)):\n",
    "        arr[i] *= -1\n",
    "\n",
    "if __name__ == \"__main__\":\n",
    "    num = Value('i', 10)\n",
    "    arr = Array('i', [1, 2, 3])\n",
    "\n",
    "    p = Process(target=update_data, args=(num, arr))\n",
    "    p.start()\n",
    "    p.join()\n",
    "\n",
    "    print(\"Number:\", num.value)\n",
    "    print(\"Array:\", list(arr))\n"
   ]
  },
  {
   "cell_type": "markdown",
   "id": "76269f5f",
   "metadata": {},
   "source": [
    "# Using multiprocessing.Manager (Share Complex Objects)"
   ]
  },
  {
   "cell_type": "code",
   "execution_count": null,
   "id": "ee435d5f",
   "metadata": {},
   "outputs": [],
   "source": [
    "from multiprocessing import Process, Manager\n",
    "\n",
    "def worker(shared_dict, key, value):\n",
    "    shared_dict[key] = value\n",
    "\n",
    "if __name__ == \"__main__\":\n",
    "    with Manager() as manager:\n",
    "        shared_dict = manager.dict()\n",
    "        processes = [Process(target=worker, args=(shared_dict, i, i*i)) for i in range(5)]\n",
    "\n",
    "        for p in processes: p.start()\n",
    "        for p in processes: p.join()\n",
    "\n",
    "        print(\"Shared dict:\", dict(shared_dict))\n"
   ]
  },
  {
   "cell_type": "code",
   "execution_count": null,
   "id": "e11c8d9c",
   "metadata": {},
   "outputs": [],
   "source": [
    "# Using multiprocessing.Lock (Synchronization)\n",
    "from multiprocessing import Process, Lock\n",
    "\n",
    "def safe_print(lock, msg):\n",
    "    with lock:\n",
    "        print(msg)\n",
    "\n",
    "if __name__ == \"__main__\":\n",
    "    lock = Lock()\n",
    "    for i in range(5):\n",
    "        Process(target=safe_print, args=(lock, f\"Message {i}\")).start()\n",
    "\n"
   ]
  }
 ],
 "metadata": {
  "language_info": {
   "name": "python"
  }
 },
 "nbformat": 4,
 "nbformat_minor": 5
}
