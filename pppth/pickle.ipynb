{
 "cells": [
  {
   "cell_type": "markdown",
   "id": "309eae7b",
   "metadata": {},
   "source": [
    "# The pickle module:\n",
    "# Purpose: pickle is Python's built-in module for serializing and deserializing Python objects. It converts Python objects into a byte stream, a process called \"pickling,\" and reconstructs them from the byte stream, called \"unpickling.\"\n",
    "# Usage:\n",
    "# pickle.dump(obj, file): Serializes obj and writes it to a file-like object.\n",
    "# pickle.dumps(obj): Serializes obj and returns it as a bytes object.\n",
    "# pickle.load(file): Reads a byte stream from a file-like object and reconstructs the object.\n",
    "# pickle.loads(bytes_object): Reconstructs an object from a bytes object."
   ]
  },
  {
   "cell_type": "code",
   "execution_count": 1,
   "id": "84366db6",
   "metadata": {},
   "outputs": [
    {
     "name": "stdout",
     "output_type": "stream",
     "text": [
      "Loaded data from file: {'name': 'Alice', 'age': 30, 'cities': ['New York', 'London']}\n",
      "Pickled bytes: b'\\x80\\x04\\x95=\\x00\\x00\\x00\\x00\\x00\\x00\\x00}\\x94(\\x8c\\x04name\\x94\\x8c\\x05Alice\\x94\\x8c\\x03age\\x94K\\x1e\\x8c\\x06cities\\x94]\\x94(\\x8c\\x08New York\\x94\\x8c\\x06London\\x94eu.'\n",
      "Unpickled data from bytes: {'name': 'Alice', 'age': 30, 'cities': ['New York', 'London']}\n"
     ]
    }
   ],
   "source": [
    "import pickle\n",
    "\n",
    "my_data = {'name': 'Alice', 'age': 30, 'cities': ['New York', 'London']}\n",
    "\n",
    "# Pickling to a file\n",
    "with open('data.pkl', 'wb') as f:\n",
    "    pickle.dump(my_data, f)\n",
    "\n",
    "# Unpickling from a file\n",
    "with open('data.pkl', 'rb') as f:\n",
    "    loaded_data = pickle.load(f)\n",
    "print(f\"Loaded data from file: {loaded_data}\")\n",
    "\n",
    "# Pickling to a bytes object\n",
    "pickled_bytes = pickle.dumps(my_data)\n",
    "print(f\"Pickled bytes: {pickled_bytes}\")\n",
    "\n",
    "# Unpickling from a bytes object\n",
    "unpickled_data = pickle.loads(pickled_bytes)\n",
    "print(f\"Unpickled data from bytes: {unpickled_data}\")"
   ]
  }
 ],
 "metadata": {
  "kernelspec": {
   "display_name": "Python 3",
   "language": "python",
   "name": "python3"
  },
  "language_info": {
   "codemirror_mode": {
    "name": "ipython",
    "version": 3
   },
   "file_extension": ".py",
   "mimetype": "text/x-python",
   "name": "python",
   "nbconvert_exporter": "python",
   "pygments_lexer": "ipython3",
   "version": "3.12.7"
  }
 },
 "nbformat": 4,
 "nbformat_minor": 5
}
