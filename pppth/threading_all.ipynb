{
 "cells": [
  {
   "cell_type": "markdown",
   "id": "09908668",
   "metadata": {},
   "source": [
    "# Basic Thread Creation using threading.Thread\n",
    "# ✅ The most direct and flexible approach\n"
   ]
  },
  {
   "cell_type": "code",
   "execution_count": 1,
   "id": "ec32f52e",
   "metadata": {},
   "outputs": [
    {
     "name": "stdout",
     "output_type": "stream",
     "text": [
      "Thread 0 starting...Thread 1 starting...\n",
      "\n",
      "Thread 2 starting...\n",
      "Thread 0 finished.Thread 1 finished.\n",
      "Thread 2 finished.\n",
      "\n",
      "All threads done.\n"
     ]
    }
   ],
   "source": [
    "import threading\n",
    "import time\n",
    "\n",
    "def worker(task_id):\n",
    "    print(f\"Thread {task_id} starting...\")\n",
    "    time.sleep(1)\n",
    "    print(f\"Thread {task_id} finished.\")\n",
    "\n",
    "threads = []\n",
    "for i in range(3):\n",
    "    t = threading.Thread(target=worker, args=(i,))\n",
    "    threads.append(t)\n",
    "    t.start()\n",
    "\n",
    "for t in threads:\n",
    "    t.join()\n",
    "\n",
    "print(\"All threads done.\")\n"
   ]
  },
  {
   "cell_type": "markdown",
   "id": "c41445b1",
   "metadata": {},
   "source": [
    "# Subclassing Thread (OOP-style)\n",
    "# For encapsulating logic in a class (used in production systems)"
   ]
  },
  {
   "cell_type": "code",
   "execution_count": null,
   "id": "7edcab18",
   "metadata": {},
   "outputs": [],
   "source": [
    "import threading\n",
    "import time\n",
    "\n",
    "class WorkerThread(threading.Thread):\n",
    "    def __init__(self, task_id):\n",
    "        super().__init__()\n",
    "        self.task_id = task_id\n",
    "\n",
    "    def run(self):\n",
    "        print(f\"Worker-{self.task_id} starting...\")\n",
    "        time.sleep(1)\n",
    "        print(f\"Worker-{self.task_id} done.\")\n",
    "\n",
    "threads = [WorkerThread(i) for i in range(3)]\n",
    "for t in threads:\n",
    "    t.start()\n",
    "for t in threads:\n",
    "    t.join()\n"
   ]
  },
  {
   "cell_type": "markdown",
   "id": "907463f3",
   "metadata": {},
   "source": [
    "# Using concurrent.futures.ThreadPoolExecutor\n",
    "# ✅ Modern, Pythonic, and production-safe"
   ]
  },
  {
   "cell_type": "code",
   "execution_count": null,
   "id": "4c6508ef",
   "metadata": {},
   "outputs": [],
   "source": [
    "from concurrent.futures import ThreadPoolExecutor, as_completed\n",
    "import time\n",
    "\n",
    "def process_data(n):\n",
    "    time.sleep(1)\n",
    "    return n * n\n",
    "\n",
    "with ThreadPoolExecutor(max_workers=5) as executor:\n",
    "    futures = [executor.submit(process_data, i) for i in range(5)]\n",
    "\n",
    "    for future in as_completed(futures):\n",
    "        print(\"Result:\", future.result())\n",
    "\n",
    "print(\"All threads finished.\")\n"
   ]
  },
  {
   "cell_type": "markdown",
   "id": "4949b846",
   "metadata": {},
   "source": [
    "# Using threading.Timer\n",
    "# ✅ Schedule a function to run after a delay"
   ]
  },
  {
   "cell_type": "code",
   "execution_count": null,
   "id": "51fb30a8",
   "metadata": {},
   "outputs": [],
   "source": [
    "import threading\n",
    "\n",
    "def greet():\n",
    "    print(\"Hello after 3 seconds!\")\n",
    "\n",
    "timer = threading.Timer(3.0, greet)\n",
    "timer.start()\n"
   ]
  },
  {
   "cell_type": "code",
   "execution_count": null,
   "id": "b0efb934",
   "metadata": {},
   "outputs": [],
   "source": [
    "# Using a Queue for Thread Communication\n",
    "# ✅ Thread-safe producer–consumer pattern"
   ]
  },
  {
   "cell_type": "code",
   "execution_count": null,
   "id": "de411597",
   "metadata": {},
   "outputs": [],
   "source": [
    "import threading\n",
    "import queue\n",
    "import time\n",
    "\n",
    "def worker(q):\n",
    "    while True:\n",
    "        item = q.get()\n",
    "        if item is None:\n",
    "            break\n",
    "        print(f\"Processing {item}\")\n",
    "        time.sleep(1)\n",
    "        q.task_done()\n",
    "\n",
    "q = queue.Queue()\n",
    "threads = [threading.Thread(target=worker, args=(q,)) for _ in range(3)]\n",
    "for t in threads: t.start()\n",
    "\n",
    "for i in range(5):\n",
    "    q.put(i)\n",
    "\n",
    "q.join()  # Wait until queue is empty\n",
    "\n",
    "for _ in threads: q.put(None)  # Stop workers\n",
    "for t in threads: t.join()\n"
   ]
  },
  {
   "cell_type": "markdown",
   "id": "0020fca4",
   "metadata": {},
   "source": [
    "# Using Locks (Thread Synchronization)\n",
    "# ✅ To avoid race conditions on shared data"
   ]
  },
  {
   "cell_type": "code",
   "execution_count": null,
   "id": "cf771771",
   "metadata": {},
   "outputs": [],
   "source": [
    "import threading\n",
    "import time\n",
    "\n",
    "counter = 0\n",
    "lock = threading.Lock()\n",
    "\n",
    "def increment():\n",
    "    global counter\n",
    "    for _ in range(100000):\n",
    "        with lock:\n",
    "            counter += 1\n",
    "\n",
    "threads = [threading.Thread(target=increment) for _ in range(5)]\n",
    "for t in threads: t.start()\n",
    "for t in threads: t.join()\n",
    "\n",
    "print(\"Final counter value:\", counter)\n"
   ]
  },
  {
   "cell_type": "markdown",
   "id": "10c719a1",
   "metadata": {},
   "source": [
    "# Using threading.Event for Coordination\n",
    "# ✅ Synchronize threads with signals (used in servers and jobs)\n",
    "# Use case: Control flow between threads (e.g., waiting for signals or data readiness)"
   ]
  },
  {
   "cell_type": "code",
   "execution_count": null,
   "id": "87373379",
   "metadata": {},
   "outputs": [],
   "source": [
    "import threading\n",
    "import time\n",
    "\n",
    "event = threading.Event()\n",
    "\n",
    "def waiter():\n",
    "    print(\"Waiting for event...\")\n",
    "    event.wait()\n",
    "    print(\"Event received!\")\n",
    "\n",
    "def setter():\n",
    "    time.sleep(2)\n",
    "    print(\"Setting event.\")\n",
    "    event.set()\n",
    "\n",
    "threading.Thread(target=waiter).start()\n",
    "threading.Thread(target=setter).start()\n"
   ]
  },
  {
   "cell_type": "markdown",
   "id": "e3fb76ba",
   "metadata": {},
   "source": [
    "# Using threading.Semaphore (Limit Concurrent Threads)\n",
    "# ✅ Used for rate-limiting or resource pooling\n",
    "# Use case: Limit concurrency, e.g. only 3 threads access a resource simultaneously"
   ]
  },
  {
   "cell_type": "code",
   "execution_count": null,
   "id": "2a9cff7b",
   "metadata": {},
   "outputs": [],
   "source": [
    "import threading\n",
    "import time\n",
    "\n",
    "sem = threading.Semaphore(3)\n",
    "\n",
    "def task(i):\n",
    "    with sem:\n",
    "        print(f\"Task {i} starting...\")\n",
    "        time.sleep(2)\n",
    "        print(f\"Task {i} done.\")\n",
    "\n",
    "threads = [threading.Thread(target=task, args=(i,)) for i in range(10)]\n",
    "for t in threads: t.start()\n",
    "for t in threads: t.join()\n"
   ]
  },
  {
   "cell_type": "markdown",
   "id": "33ed5fa3",
   "metadata": {},
   "source": [
    "# Using Daemon Threads\n",
    "# ✅ Threads that stop automatically when the main program exits\n",
    "# Use case: Background monitoring, logging, or heartbeat threads"
   ]
  },
  {
   "cell_type": "code",
   "execution_count": null,
   "id": "bc771011",
   "metadata": {},
   "outputs": [],
   "source": [
    "import threading\n",
    "import time\n",
    "\n",
    "def background_task():\n",
    "    while True:\n",
    "        print(\"Running background task...\")\n",
    "        time.sleep(1)\n",
    "\n",
    "t = threading.Thread(target=background_task, daemon=True)\n",
    "t.start()\n",
    "\n",
    "time.sleep(3)\n",
    "print(\"Main thread done. Daemon stops automatically.\")\n"
   ]
  },
  {
   "cell_type": "markdown",
   "id": "4248deaf",
   "metadata": {},
   "source": [
    "# Using ThreadPoolExecutor.map() (Simplified Parallel Mapping)\n",
    "# ✅ Simplest parallel map operation\n",
    "#  case: Data processing, APIs, or ETL jobs\n",
    "# Advantage: Clean syntax, automatic scheduling, ordered results\n"
   ]
  },
  {
   "cell_type": "code",
   "execution_count": null,
   "id": "1b86b622",
   "metadata": {},
   "outputs": [],
   "source": [
    "from concurrent.futures import ThreadPoolExecutor\n",
    "import time\n",
    "\n",
    "def square(x):\n",
    "    time.sleep(1)\n",
    "    return x * x\n",
    "\n",
    "with ThreadPoolExecutor(max_workers=3) as executor:\n",
    "    for result in executor.map(square, range(5)):\n",
    "        print(result)\n"
   ]
  },
  {
   "cell_type": "markdown",
   "id": "4994fd80",
   "metadata": {},
   "source": [
    "#  | Technique                  | Description               | Use Case            |\n",
    "| -------------------------- | ------------------------- | ------------------- |\n",
    "| `threading.Thread()`       | Manual thread creation    | Simple concurrency  |\n",
    "| `Thread` subclass          | OOP encapsulation         | Complex logic       |\n",
    "| `ThreadPoolExecutor`       | High-level pooling        | Production use      |\n",
    "| `threading.Timer`          | Delayed task              | Scheduling          |\n",
    "| `Queue + Threads`          | Producer–consumer pattern | Pipelines           |\n",
    "| `Lock`                     | Prevent race conditions   | Shared data         |\n",
    "| `Event`                    | Signal between threads    | Coordination        |\n",
    "| `Semaphore`                | Limit concurrency         | Resource control    |\n",
    "| `Daemon Thread`            | Background tasks          | Monitoring, logging |\n",
    "| `ThreadPoolExecutor.map()` | Parallel mapping          | Data workloads      |\n"
   ]
  }
 ],
 "metadata": {
  "kernelspec": {
   "display_name": "Python 3",
   "language": "python",
   "name": "python3"
  },
  "language_info": {
   "codemirror_mode": {
    "name": "ipython",
    "version": 3
   },
   "file_extension": ".py",
   "mimetype": "text/x-python",
   "name": "python",
   "nbconvert_exporter": "python",
   "pygments_lexer": "ipython3",
   "version": "3.12.7"
  }
 },
 "nbformat": 4,
 "nbformat_minor": 5
}
