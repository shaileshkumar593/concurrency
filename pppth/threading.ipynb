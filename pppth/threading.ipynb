{
 "cells": [
  {
   "cell_type": "code",
   "execution_count": 1,
   "id": "544f0b7b",
   "metadata": {},
   "outputs": [
    {
     "name": "stdout",
     "output_type": "stream",
     "text": [
      "[Thread 0] Starting download...\n",
      "[Thread 1] Starting download...\n",
      "[Thread 2] Starting download...\n",
      "[Thread 3] Starting download...\n",
      "[Thread 4] Starting download...\n",
      "[Thread 0] Download complete![Thread 1] Download complete!\n",
      "\n",
      "[Thread 2] Download complete!\n",
      "[Thread 3] Download complete!\n",
      "[Thread 4] Download complete!\n",
      "All threads finished in 2.01 seconds\n"
     ]
    }
   ],
   "source": [
    "import threading\n",
    "import time\n",
    "\n",
    "def download_data(task_id):\n",
    "    print(f\"[Thread {task_id}] Starting download...\")\n",
    "    time.sleep(2)\n",
    "    print(f\"[Thread {task_id}] Download complete!\")\n",
    "\n",
    "def main():\n",
    "    threads = []\n",
    "    start = time.time()\n",
    "\n",
    "    for i in range(5):\n",
    "        t = threading.Thread(target=download_data, args=(i,))\n",
    "        threads.append(t)\n",
    "        t.start()\n",
    "\n",
    "    for t in threads:\n",
    "        t.join()\n",
    "\n",
    "    print(\"All threads finished in\", round(time.time() - start, 2), \"seconds\")\n",
    "\n",
    "if __name__ == \"__main__\":\n",
    "    main()\n"
   ]
  }
 ],
 "metadata": {
  "kernelspec": {
   "display_name": "Python 3",
   "language": "python",
   "name": "python3"
  },
  "language_info": {
   "codemirror_mode": {
    "name": "ipython",
    "version": 3
   },
   "file_extension": ".py",
   "mimetype": "text/x-python",
   "name": "python",
   "nbconvert_exporter": "python",
   "pygments_lexer": "ipython3",
   "version": "3.12.7"
  }
 },
 "nbformat": 4,
 "nbformat_minor": 5
}
