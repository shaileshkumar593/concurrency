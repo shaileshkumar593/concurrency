{
 "cells": [
  {
   "cell_type": "code",
   "execution_count": null,
   "id": "6851dc89",
   "metadata": {},
   "outputs": [],
   "source": [
    "class Speaker:\n",
    "    brand = \"Bose\"\n",
    "\n",
    "    def __init__(self, color, model):\n",
    "        self._color = color\n",
    "        self._model = model\n",
    "\n",
    "    def power_on(self):\n",
    "        print(f\"power on {self._color} {self._model} speaker\")\n",
    "\n",
    "    def power_off(self):\n",
    "        print(f\"powering off {self._color} {self._model} speaker\")\n",
    "\n",
    "class SmartSpeaker(Speaker):\n",
    "    def __init__(self, color, model,voice_Assistant):\n",
    "        super().__init__(color, model)\n",
    "        self._voice_Assistant = voice_Assistant\n",
    "\n",
    "    def say_hello(self):\n",
    "        print(f\"Hello, I am {self._voice_Assistant}\")\n",
    "        print(\"color :\", self._color)\n",
    "        print(\"model :\", self._model)\n",
    "    \n",
    "\n",
    "# Create an instance of the SmartSpeaker class\n",
    "smart_speaker = SmartSpeaker(\"black\", \"XYZ123\", \"Alexa\")\n",
    "smart_speaker.power_on()  # Inherited from Speaker\n",
    "smart_speaker.say_hello()"
   ]
  },
  {
   "cell_type": "code",
   "execution_count": null,
   "id": "e5f57733",
   "metadata": {},
   "outputs": [
    {
     "name": "stdout",
     "output_type": "stream",
     "text": [
      "XYZ School\n",
      "Steve\n",
      "20\n"
     ]
    }
   ],
   "source": [
    "#All members in a Python class are public by default. Any member can be accessed from outside the class environment\n",
    "class Student:\n",
    "    schoolName = 'XYZ School' # class attribute public member \n",
    "\n",
    "    def __init__(self, name, age):\n",
    "        self.name=name # instance attribute\n",
    "        self.age=age # instance attribute\n",
    "\n",
    "std = Student(\"Steve\", 25)\n",
    "print(std.schoolName)  #'XYZ School'\n",
    "print(std.name)  #'Steve'\n",
    "std.age = 20\n",
    "print(std.age)"
   ]
  },
  {
   "cell_type": "code",
   "execution_count": 3,
   "id": "c12154b6",
   "metadata": {},
   "outputs": [
    {
     "name": "stdout",
     "output_type": "stream",
     "text": [
      "Swati\n",
      "Dipa\n"
     ]
    }
   ],
   "source": [
    "class Student:\n",
    "    _schoolName = 'XYZ School' # protected class attribute\n",
    "    \n",
    "    def __init__(self, name, age):\n",
    "        self._name=name  # protected instance attribute\n",
    "        self._age=age # protected instance attribute\n",
    "\n",
    "\n",
    "std = Student(\"Swati\", 25)\n",
    "print(std._name)  #'Swati'\n",
    "\n",
    "std._name = 'Dipa'\n",
    "print(std._name)  #'Dipa'"
   ]
  },
  {
   "cell_type": "code",
   "execution_count": null,
   "id": "46511d5a",
   "metadata": {},
   "outputs": [],
   "source": [
    "class Student:\n",
    "\tdef __init__(self,name):\n",
    "\t\tself._name = name\n",
    "\t@property\n",
    "\tdef name(self):\n",
    "\t\treturn self._name\n",
    "\t@name.setter\n",
    "\tdef name(self,newname):\n",
    "\t\tself._name = newname\n",
    "\t\t\n",
    "# Above, @property decorator is used to make the name() method as property and @name.setter decorator to another overloads of the name() method as property setter method. Now, _name is protected.\n",
    "\n",
    "std = Student(\"Swati\")\n",
    "print(std.name)  #'Swati'\n",
    "\n",
    "std.name = 'Dipa'\n",
    "print(std.name)  #'Dipa'\n",
    "print(std._name) #'Dipa'\n",
    "\n"
   ]
  },
  {
   "cell_type": "markdown",
   "id": "010dcefe",
   "metadata": {},
   "source": [
    "# Above, we used std.name property to modify _name attribute. However, it is still accessible in Python. Hence, the responsible programmer would refrain from accessing and modifying instance variables prefixed with _ from outside its class"
   ]
  },
  {
   "cell_type": "code",
   "execution_count": null,
   "id": "2c180e5f",
   "metadata": {},
   "outputs": [],
   "source": [
    "class Student:\n",
    "    __schoolName = 'XYZ School' # private class attribute\n",
    "\n",
    "    def __init__(self, name, age):\n",
    "        self.__name=name  # private instance attribute\n",
    "        self.__salary=age # private instance attribute\n",
    "    def __display(self):  # private method\n",
    "\t    print('This is private method.')\n",
    "\n",
    "std = Student(\"Bill\", 25)\n",
    "print(std.__schoolName) #AttributeError\n",
    "print(std.__name)   #AttributeError\n",
    "print(std.__display())  #AttributeError"
   ]
  },
  {
   "cell_type": "markdown",
   "id": "a7ce294d",
   "metadata": {},
   "source": [
    "# The double underscore __ prefixed to a variable makes it private. It gives a strong suggestion not to touch it from outside the class. Any attempt to do so will result in an AttributeError:\n",
    "\n",
    "# Python performs name mangling of private variables. Every member with a double underscore will be changed to _object._class__variable."
   ]
  }
 ],
 "metadata": {
  "kernelspec": {
   "display_name": "Python 3",
   "language": "python",
   "name": "python3"
  },
  "language_info": {
   "codemirror_mode": {
    "name": "ipython",
    "version": 3
   },
   "file_extension": ".py",
   "mimetype": "text/x-python",
   "name": "python",
   "nbconvert_exporter": "python",
   "pygments_lexer": "ipython3",
   "version": "3.12.7"
  }
 },
 "nbformat": 4,
 "nbformat_minor": 5
}
