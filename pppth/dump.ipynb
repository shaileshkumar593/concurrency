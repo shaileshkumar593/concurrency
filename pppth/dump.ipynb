{
 "cells": [
  {
   "cell_type": "markdown",
   "id": "ecb9fe44",
   "metadata": {},
   "source": [
    "# The json module:\n",
    "# Purpose: json facilitates serialization and deserialization of data using the JSON (JavaScript Object Notation) format. JSON is a lightweight, human-readable, and widely used data interchange format.\n",
    "# Usage:\n",
    "# json.dump(obj, file): Serializes obj to a JSON formatted stream and writes it to a file-like object.\n",
    "# json.dumps(obj): Serializes obj to a JSON formatted string.\n",
    "# json.load(file): Reads a JSON formatted stream from a file-like object and deserializes it.\n",
    "# json.loads(string): Deserializes a JSON formatted string.\n"
   ]
  },
  {
   "cell_type": "code",
   "execution_count": null,
   "id": "ff204d03",
   "metadata": {},
   "outputs": [],
   "source": [
    "import json\n",
    "\n",
    "my_data = {'name': 'Bob', 'age': 25, 'is_student': True}\n",
    "\n",
    "# Serializing to a file\n",
    "with open('data.json', 'w') as f:\n",
    "    json.dump(my_data, f, indent=4) # indent for pretty-printing\n",
    "\n",
    "# Deserializing from a file\n",
    "with open('data.json', 'r') as f:\n",
    "    loaded_data = json.load(f)\n",
    "print(f\"Loaded data from file: {loaded_data}\")\n",
    "\n",
    "# Serializing to a string\n",
    "json_string = json.dumps(my_data)\n",
    "print(f\"JSON string: {json_string}\")\n",
    "\n",
    "# Deserializing from a string\n",
    "deserialized_data = json.loads(json_string)\n",
    "print(f\"Deserialized data from string: {deserialized_data}\")"
   ]
  }
 ],
 "metadata": {
  "language_info": {
   "name": "python"
  }
 },
 "nbformat": 4,
 "nbformat_minor": 5
}
