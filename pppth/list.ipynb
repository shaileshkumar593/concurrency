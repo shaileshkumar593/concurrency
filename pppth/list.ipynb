{
 "cells": [
  {
   "cell_type": "code",
   "execution_count": 1,
   "id": "fbfbe80f",
   "metadata": {},
   "outputs": [
    {
     "name": "stdout",
     "output_type": "stream",
     "text": [
      "hello\n"
     ]
    }
   ],
   "source": [
    "print(\"hello\")"
   ]
  },
  {
   "cell_type": "code",
   "execution_count": 2,
   "id": "7b22e1de",
   "metadata": {},
   "outputs": [
    {
     "name": "stdout",
     "output_type": "stream",
     "text": [
      "107\n"
     ]
    }
   ],
   "source": [
    "print(0b1101011)"
   ]
  },
  {
   "cell_type": "code",
   "execution_count": 4,
   "id": "eb213c6f",
   "metadata": {},
   "outputs": [
    {
     "name": "stdout",
     "output_type": "stream",
     "text": [
      "251\n",
      "2\n"
     ]
    }
   ],
   "source": [
    "print(0xFB )\n",
    "print( 0b10)"
   ]
  },
  {
   "cell_type": "code",
   "execution_count": 6,
   "id": "a81e0be8",
   "metadata": {},
   "outputs": [
    {
     "ename": "AttributeError",
     "evalue": "'str' object has no attribute 'extend'",
     "output_type": "error",
     "traceback": [
      "\u001b[31m---------------------------------------------------------------------------\u001b[39m",
      "\u001b[31mAttributeError\u001b[39m                            Traceback (most recent call last)",
      "\u001b[36mCell\u001b[39m\u001b[36m \u001b[39m\u001b[32mIn[6]\u001b[39m\u001b[32m, line 3\u001b[39m\n\u001b[32m      1\u001b[39m a = \u001b[33m\"\u001b[39m\u001b[33mshailesh\u001b[39m\u001b[33m\"\u001b[39m\n\u001b[32m      2\u001b[39m b = \u001b[33m\"\u001b[39m\u001b[33mkumar\u001b[39m\u001b[33m\"\u001b[39m\n\u001b[32m----> \u001b[39m\u001b[32m3\u001b[39m \u001b[38;5;28mprint\u001b[39m(\u001b[43ma\u001b[49m\u001b[43m.\u001b[49m\u001b[43mextend\u001b[49m(b))\n",
      "\u001b[31mAttributeError\u001b[39m: 'str' object has no attribute 'extend'"
     ]
    }
   ],
   "source": [
    "a = \"shailesh\"\n",
    "b = \"kumar\"\n",
    "print(a.extend(b))"
   ]
  },
  {
   "cell_type": "code",
   "execution_count": 3,
   "id": "218495d0",
   "metadata": {},
   "outputs": [
    {
     "data": {
      "text/plain": [
       "[2, 3, 5, 7, 9, 11]"
      ]
     },
     "execution_count": 3,
     "metadata": {},
     "output_type": "execute_result"
    }
   ],
   "source": [
    "prime_numbers = [2, 3, 5, 7, 9,9, 11]\n",
    "prime_numbers.remove(9)\n",
    "prime_numbers\n"
   ]
  },
  {
   "cell_type": "code",
   "execution_count": 34,
   "id": "6b7aa62f",
   "metadata": {},
   "outputs": [
    {
     "data": {
      "text/plain": [
       "['Linux', 'macOS', 'Windows']"
      ]
     },
     "execution_count": 34,
     "metadata": {},
     "output_type": "execute_result"
    }
   ],
   "source": [
    "systems = ['Windows', 'macOS', 'Linux']\n",
    "reversed_list = systems[::-1]\n",
    "reversed_list"
   ]
  },
  {
   "cell_type": "code",
   "execution_count": 39,
   "id": "f6584fbe",
   "metadata": {},
   "outputs": [
    {
     "name": "stdout",
     "output_type": "stream",
     "text": [
      "Copied List: [2, 3, 5]\n",
      "[2, 3, 5]\n",
      "[2, 3, 5, 80, 90]\n"
     ]
    }
   ],
   "source": [
    "# mixed list\n",
    "prime_numbers = [2, 3, 5]\n",
    "\n",
    "# copying a list\n",
    "numbers = prime_numbers.copy()\n",
    "\n",
    "print('Copied List:', numbers)\n",
    "\n",
    "prime_numbers.extend((80,90))\n",
    "print(numbers)\n",
    "print(prime_numbers)"
   ]
  },
  {
   "cell_type": "code",
   "execution_count": 47,
   "id": "cf4347a5",
   "metadata": {},
   "outputs": [
    {
     "name": "stdout",
     "output_type": "stream",
     "text": [
      "New List: [1, 2, 3, 'a']\n",
      "Old List: [1, 2, 3, 'a']\n",
      "New List: [1, 2, 3, 'a', 78, 65, 34]\n",
      "Old List: [1, 2, 3, 'a', 78, 65, 34]\n",
      "[1, 2, 3, 'a', 78, 65, 34, 44, 45, 48]\n",
      "[1, 2, 3, 'a', 78, 65, 34, 44, 45, 48]\n"
     ]
    }
   ],
   "source": [
    "old_list = [1, 2, 3]\n",
    "\n",
    "# copy list using =\n",
    "new_list = old_list\n",
    "\n",
    "# add an element to list\n",
    "new_list.append('a')\n",
    "\n",
    "print('New List:', new_list)\n",
    "print('Old List:', old_list)\n",
    "old_list.extend((78,65,34))\n",
    "print('New List:', new_list)\n",
    "print('Old List:', old_list)\n",
    "\n",
    "new_list.extend((44,45,48))\n",
    "\n",
    "print(old_list)\n",
    "print(new_list)"
   ]
  },
  {
   "cell_type": "code",
   "execution_count": 42,
   "id": "fbdfe318",
   "metadata": {},
   "outputs": [
    {
     "name": "stdout",
     "output_type": "stream",
     "text": [
      "Old list: [[1, 1, 1], [2, 2, 2], [3, 3, 3], [4, 4, 4]]\n",
      "New list: [[1, 1, 1], [2, 2, 2], [3, 3, 3]]\n",
      "Old list: [[1, 1, 1], [2, 'AA', 2], [3, 3, 3], [4, 'abcder', 4]]\n",
      "New list: [[1, 1, 1], [2, 'AA', 2], [3, 3, 3]]\n"
     ]
    }
   ],
   "source": [
    "import copy\n",
    "\n",
    "old_list = [[1, 1, 1], [2, 2, 2], [3, 3, 3]]\n",
    "new_list = copy.copy(old_list)\n",
    "\n",
    "old_list.append([4, 4, 4])\n",
    "\n",
    "print(\"Old list:\", old_list)\n",
    "print(\"New list:\", new_list)\n",
    "\n",
    "old_list[1][1] = 'AA'\n",
    "\n",
    "old_list[3][1] = 'abcder'\n",
    "\n",
    "print(\"Old list:\", old_list)\n",
    "print(\"New list:\", new_list)"
   ]
  },
  {
   "cell_type": "code",
   "execution_count": 46,
   "id": "4d4bbc23",
   "metadata": {},
   "outputs": [
    {
     "name": "stdout",
     "output_type": "stream",
     "text": [
      "[7, 9, 5, 4, 7]\n",
      "[7, 9, 5, 4, 7]\n",
      "[7, 9, 5, 4, 7, 9]\n",
      "[7, 9, 5, 4, 7]\n"
     ]
    }
   ],
   "source": [
    "old_list = [7,9,5,4,7]\n",
    "id(old_list[0])\n",
    "import copy\n",
    "new_list = copy.copy(old_list)\n",
    "\n",
    "print(old_list)\n",
    "print(new_list)\n",
    "old_list.append(9)\n",
    "\n",
    "print(old_list)\n",
    "print(new_list)"
   ]
  },
  {
   "cell_type": "code",
   "execution_count": null,
   "id": "927d1422",
   "metadata": {},
   "outputs": [
    {
     "name": "stdout",
     "output_type": "stream",
     "text": [
      "[] 1870853795968\n"
     ]
    }
   ],
   "source": [
    "l = [9,6,7,5,4]\n",
    "\n",
    "l.clear()\n",
    "print(l, id(l))\n",
    "\n",
    "del l\n",
    "#print(l)  // only data delete momory still avail\n",
    "\n"
   ]
  },
  {
   "cell_type": "code",
   "execution_count": 6,
   "id": "8644a4ab",
   "metadata": {},
   "outputs": [
    {
     "ename": "NameError",
     "evalue": "name 'p' is not defined",
     "output_type": "error",
     "traceback": [
      "\u001b[31m---------------------------------------------------------------------------\u001b[39m",
      "\u001b[31mNameError\u001b[39m                                 Traceback (most recent call last)",
      "\u001b[36mCell\u001b[39m\u001b[36m \u001b[39m\u001b[32mIn[6]\u001b[39m\u001b[32m, line 3\u001b[39m\n\u001b[32m      1\u001b[39m p = [\u001b[32m7\u001b[39m,\u001b[32m6\u001b[39m,\u001b[32m3\u001b[39m,\u001b[32m4\u001b[39m,\u001b[32m2\u001b[39m]\n\u001b[32m      2\u001b[39m \u001b[38;5;28;01mdel\u001b[39;00m(p)\n\u001b[32m----> \u001b[39m\u001b[32m3\u001b[39m \u001b[43mp\u001b[49m\n",
      "\u001b[31mNameError\u001b[39m: name 'p' is not defined"
     ]
    }
   ],
   "source": [
    "p = [7,6,3,4,2]\n",
    "del(p)\n",
    "p"
   ]
  },
  {
   "cell_type": "code",
   "execution_count": 3,
   "id": "1bb64427",
   "metadata": {},
   "outputs": [
    {
     "name": "stdout",
     "output_type": "stream",
     "text": [
      "[8, 9, 5, 7, [88, 99, 44]]\n",
      "[8, 9, 5, 7, [88, 99, 44]]\n"
     ]
    }
   ],
   "source": [
    "l = [8,9,5,7]\n",
    "p =l\n",
    "p.append([88,99,44])\n",
    "print(p)\n",
    "print(l)"
   ]
  },
  {
   "cell_type": "code",
   "execution_count": 4,
   "id": "c4f07f56",
   "metadata": {},
   "outputs": [
    {
     "name": "stdout",
     "output_type": "stream",
     "text": [
      "[9, 7, 4, 8888, 66, 34]\n",
      "[9, 7, 98769, 88, 66, 34]\n"
     ]
    }
   ],
   "source": [
    "import copy\n",
    "\n",
    "p = [9,7,4,88,66,34]\n",
    "l = copy.copy(p)\n",
    "p [3] = 8888\n",
    "l[2]= 98769\n",
    "print(p)\n",
    "print(l)"
   ]
  },
  {
   "cell_type": "code",
   "execution_count": 6,
   "id": "86cb3bf8",
   "metadata": {},
   "outputs": [
    {
     "name": "stdout",
     "output_type": "stream",
     "text": [
      "[[99, 2, 3], [4, 5, 6]]\n",
      "[[99, 2, 3], [4, 5, 6]]\n"
     ]
    }
   ],
   "source": [
    "\n",
    "a = [[1, 2, 3], [4, 5, 6]]\n",
    "\n",
    "# Creating a shallow copy of the nested list 'original'\n",
    "b = copy.copy(a)\n",
    "\n",
    "# Modifying an element in the shallow-copied list\n",
    "b[0][0] = 99\n",
    "\n",
    "# Printing the original and shallow-copied lists  \n",
    "print(b)\n",
    "print(a)"
   ]
  }
 ],
 "metadata": {
  "kernelspec": {
   "display_name": "Python 3",
   "language": "python",
   "name": "python3"
  },
  "language_info": {
   "codemirror_mode": {
    "name": "ipython",
    "version": 3
   },
   "file_extension": ".py",
   "mimetype": "text/x-python",
   "name": "python",
   "nbconvert_exporter": "python",
   "pygments_lexer": "ipython3",
   "version": "3.12.7"
  }
 },
 "nbformat": 4,
 "nbformat_minor": 5
}
