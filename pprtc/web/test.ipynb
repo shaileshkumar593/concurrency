{
 "cells": [
  {
   "cell_type": "code",
   "execution_count": 6,
   "metadata": {},
   "outputs": [
    {
     "name": "stdout",
     "output_type": "stream",
     "text": [
      "[4, 5, 8, 7]\n",
      "[24, 5, 8, 7]\n",
      "[4, 5, 8, 7]\n",
      "2336536608512\n",
      "2336536600256\n"
     ]
    }
   ],
   "source": [
    "l = [4,5,8,7]\n",
    "p = l\n",
    "import copy\n",
    "print(l)\n",
    "k = copy.deepcopy(l)\n",
    "k[0]= 24\n",
    "print(k)\n",
    "print(l)\n",
    "#p [0] = 25\n",
    "#print(p)\n",
    "#print(l)\n",
    "print(id(l))\n",
    "print(id(k))"
   ]
  },
  {
   "cell_type": "code",
   "execution_count": 7,
   "metadata": {},
   "outputs": [
    {
     "name": "stdout",
     "output_type": "stream",
     "text": [
      "2336535547520\n",
      "2336535547520\n",
      "[4, 5, 8, 7]\n",
      "[4, 5, 8, 7]\n",
      "[28, 5, 8, 7]\n",
      "[28, 5, 8, 7]\n"
     ]
    }
   ],
   "source": [
    "l = [4,5,8,7]\n",
    "p = l\n",
    "print(id(l))\n",
    "print(id(p))\n",
    "print(l)\n",
    "print(p)\n",
    "p[0] = 28\n",
    "print(l)\n",
    "print(p)"
   ]
  }
 ],
 "metadata": {
  "interpreter": {
   "hash": "2aa838f9c0d64fe79790135a1df1a9ee3d0f2c04939dc9b9ea0b3bb53fe26fe6"
  },
  "kernelspec": {
   "display_name": "Python 3.10.0 64-bit",
   "language": "python",
   "name": "python3"
  },
  "language_info": {
   "codemirror_mode": {
    "name": "ipython",
    "version": 3
   },
   "file_extension": ".py",
   "mimetype": "text/x-python",
   "name": "python",
   "nbconvert_exporter": "python",
   "pygments_lexer": "ipython3",
   "version": "3.10.0"
  },
  "orig_nbformat": 4
 },
 "nbformat": 4,
 "nbformat_minor": 2
}
